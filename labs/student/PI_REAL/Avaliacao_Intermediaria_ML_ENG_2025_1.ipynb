{
 "cells": [
  {
   "cell_type": "markdown",
   "metadata": {},
   "source": [
    "# Prova Intermediária - Machine Learning\n",
    "\n",
    "**Nome do aluno**: <font color='red'>LUCCA D OLIVEIRA GHETI KAO</font>\n",
    "\n",
    "Você deve submeter o trabalho via Blackboard. É de sua responsabilidade garantir que o arquivo correto foi enviado.\n",
    "\n",
    "Se você precisou adicionar arquivos extras à essa prova, assegure-se de que você os está enviando também.\n",
    "\n",
    "A prova é individual e com consulta - pode consultar suas anotações, a web, o que quiser, menos perguntar para outros ou para as AIs. Faça o seu trabalho de maneira ética!\n",
    "\n",
    "ChatGPT para perguntas teóricas não é permitido. CoPilot para código é permitido."
   ]
  },
  {
   "cell_type": "markdown",
   "metadata": {},
   "source": [
    "## Instruções"
   ]
  },
  {
   "cell_type": "markdown",
   "metadata": {},
   "source": [
    "Nesta prova vamos trabalhar com um dataset de tipos de florestamento de acordo com características do terreno e de suas cercanias.\n",
    "\n",
    "As questões estão distribuidas ao longo do notebook, procure pela tag \"**QUESTÕES**\". Temos 7 questões ao todo.\n",
    "\n",
    "Boa prova!"
   ]
  },
  {
   "cell_type": "markdown",
   "metadata": {},
   "source": [
    "***"
   ]
  },
  {
   "cell_type": "markdown",
   "metadata": {},
   "source": [
    "# **QUESTÕES**"
   ]
  },
  {
   "cell_type": "markdown",
   "metadata": {},
   "source": [
    "***Questão 1*** (2,0 pt)\n",
    "\n",
    "Em ciência devemos sempre tomar muito cuidado para não \"overfittar\" os fenômenos da natureza que estamos observando. Ou seja: devemos construir mecanismos de explicação (leis naturais) dos fenômenos que permitem reproduzir os resultados observados, e também permitem PREVER corretamente resultados para novas situações.\n",
    "\n",
    "Nesta questão você deverá relacionar seu conhecimento de *machine learning* a este panorama da ciência.\n",
    "\n",
    "a) (0.5 pts) Um cientista verifica que a lei natural que ela/ele postulou se ajusta muito bem ao conjunto completo de dados do seu experimento, e já declara que sua teoria é válida. Um especialista em machine learning diz que o cientista não pode afirmar isso ainda. Por que o especialista em machine learning diz isso? Explique. Construa uma sugestão que o especialista em machine learning pode fazer ao cientista para ajudá-lo a ter mais certeza sobre a validade de sua lei natural.\n",
    "\n",
    "c) (0.5 pts) A qual etapa do processo \"CRISP-DM\" corresponde o \"brainstorming\" sobre boas ideias sobre leis naturais que possam explicar o experimento?\n",
    "\n",
    "d) (0.5 pts) A qual etapa do processo de machine learning (nivel 2 / nivel 1 / nivel 0) corresponde o processo de escolher uma lei natural dentre um conjunto de opções de leis inventadas no item anterior?\n",
    "\n",
    "e) (0.5 pts) Em ciência, o que é o \"deploy\"?"
   ]
  },
  {
   "cell_type": "markdown",
   "metadata": {},
   "source": [
    "***Resposta***:\n",
    "\n"
   ]
  },
  {
   "cell_type": "markdown",
   "metadata": {},
   "source": [
    "A: O cientista não pode afirmar com certeza que sua lei (modelo), é válido pois ele pode estar cometendo o erro conhecido como overfitting que seria, em outras palavras, o fenômeno de o modelo, lei ou regra de predição/categorização encontrado pelo cientista estar se sobreajustando aos dados que você está utilizando no experimento, criando uma falsa impressão de que seu modelo é perfeito para a resolução do problema. Uma sugestão para o cientista e que irá ajudá-lo, é separar seu conjunto de dados em treino e teste, para que ele possa testar suas ideias/hipóteses no conjunto de treino e testar o modelo final no conjunto de teste.\n",
    "\n",
    "B: A etapa que corresponde a busca por leis naturais que possam explicar o experimento é a \"Business Understading e Data Understading\" onde o business expert e o data expert aprendem um com o outro, e juntos criam ideias de como podem buscar explicar a problematica em questão no ciclo de análise.\n",
    "\n",
    "C: A etapa de escolher a lei natural é o nível 2, onde serão testadas todas as leis \"brainstormadas\" na etapa anterior do CRISP-DM, e com o teste e comparação do desempenho de todas essas ideias, uma ideia será escolhida e melhor explorada pelo cientista no próximo passo do processo.\n",
    "\n",
    "D: Deploy é o processo de implantação da estrutura construída em produção, seja ela uma teoria acadêmica ou um modelo de machine learning."
   ]
  },
  {
   "cell_type": "markdown",
   "metadata": {},
   "source": [
    "***"
   ]
  },
  {
   "cell_type": "markdown",
   "metadata": {},
   "source": [
    "Para as questões a seguir vamos trabalhar com o *dataset* *\"Forest Cover Types\"* (https://archive.ics.uci.edu/dataset/31/covertype). O *dataset* contém as seguintes *features*, de acordo com a documentação do *site*:\n",
    "\n",
    "| Name                               | Data Type    | Measurement                 | Description                                   |\n",
    "|------------------------------------|--------------|-----------------------------|-----------------------------------------------|\n",
    "| Elevation                          | quantitative | meters                      | Elevation in meters                           |\n",
    "| Aspect                             | quantitative | azimuth                     | Aspect in degrees azimuth                     |\n",
    "| Slope                              | quantitative | degrees                     | Slope in degrees                              |\n",
    "| Horizontal_Distance_To_Hydrology   | quantitative | meters                      | Horz Dist to nearest surface water features   |\n",
    "| Vertical_Distance_To_Hydrology     | quantitative | meters                      | Vert Dist to nearest surface water features   |\n",
    "| Horizontal_Distance_To_Roadways    | quantitative | meters                      | Horz Dist to nearest roadway                  |\n",
    "| Hillshade_9am                      | quantitative | 0 to 255 index              | Hillshade index at 9am, summer solstice       |\n",
    "| Hillshade_Noon                     | quantitative | 0 to 255 index              | Hillshade index at noon, summer soltice       |\n",
    "| Hillshade_3pm                      | quantitative | 0 to 255 index              | Hillshade index at 3pm, summer solstice       |\n",
    "| Horizontal_Distance_To_Fire_Points | quantitative | meters                      | Horz Dist to nearest wildfire ignition points |\n",
    "| Wilderness_Area (4 binary columns) | qualitative  | 0 (absence) or 1 (presence) | Wilderness area designation                   |\n",
    "| Soil_Type (40 binary columns)      | qualitative  | 0 (absence) or 1 (presence) | Soil Type designation                         |\n",
    "| Cover_Type (7 types)               | integer      | 1 to 7                      | Forest Cover Type designation                 |\n",
    "\n",
    "No *dataset* original, as colunas cujo nome inicia com `Wilderness_Area`, `Soil_Type` e `Cover_Type` são colunas binárias, pois já correspondem ao \"one-hot-encoding\" das características subjacentes. As demais colunas são quantitativas (numéricas).\n",
    "\n",
    "No código do arquivo `utils.py` já temos a leitura do *dataset* e a separação treino-teste. Estes códigos utilitários estão em um arquivo separado apenas para não poluir este notebook, só isso.\n",
    "\n",
    "Na leitura de dados as colunas binárias foram convertidas de volta para variáveis categóricas.\n",
    "\n",
    "A análise exploratória também foi (muito mal) feita, mas é a vida: nem sempre temos bons colaboradores entregando material de qualidade para a gente continuar o trabalho, ora!"
   ]
  },
  {
   "cell_type": "code",
   "execution_count": 1,
   "metadata": {},
   "outputs": [],
   "source": [
    "import matplotlib.pyplot as plt\n",
    "import numpy as np\n",
    "import pandas as pd\n",
    "from utils import (analise_descritiva_preliminar, load_dataset, split_data,\n",
    "                   visualizacao_posterior, visualizacao_preliminar)"
   ]
  },
  {
   "cell_type": "code",
   "execution_count": 2,
   "metadata": {},
   "outputs": [],
   "source": [
    "data = load_dataset()\n",
    "train_data, test_data = split_data(data)"
   ]
  },
  {
   "cell_type": "code",
   "execution_count": null,
   "metadata": {},
   "outputs": [],
   "source": [
    "# Descomente as linhas seguintes para ver a análise exploratória, ou\n",
    "# descomente apenas as partes de seu interesse.\n",
    "\n",
    "# analise_descritiva_preliminar(data)\n",
    "# visualizacao_preliminar(data)\n",
    "# visualizacao_posterior(train_data)"
   ]
  },
  {
   "cell_type": "code",
   "execution_count": 3,
   "metadata": {},
   "outputs": [],
   "source": [
    "X_train = train_data.drop(columns=['Cover_Type'])\n",
    "y_train = train_data['Cover_Type']\n",
    "\n",
    "X_test = test_data.drop(columns=['Cover_Type'])\n",
    "y_test = test_data['Cover_Type']"
   ]
  },
  {
   "cell_type": "markdown",
   "metadata": {},
   "source": [
    "***"
   ]
  },
  {
   "cell_type": "markdown",
   "metadata": {},
   "source": [
    "# **QUESTÕES**"
   ]
  },
  {
   "cell_type": "markdown",
   "metadata": {},
   "source": [
    "***Questão 2*** (0.5 pts):\n",
    "\n",
    "Este dataset é muito grande! Crie um dataset `X_train_small`, `y_train_small` a partir do dataset `X_train`, `y_train` com apenas 20% dos dados."
   ]
  },
  {
   "cell_type": "markdown",
   "metadata": {},
   "source": [
    "***Resposta***:"
   ]
  },
  {
   "cell_type": "code",
   "execution_count": 4,
   "metadata": {},
   "outputs": [],
   "source": [
    "from sklearn.model_selection import train_test_split\n",
    "\n",
    "X_train_small = train_test_split(X_train, train_size=0.2, random_state=42)[0]\n",
    "y_train_small = y_train.loc[X_train_small.index]"
   ]
  },
  {
   "cell_type": "markdown",
   "metadata": {},
   "source": [
    "***"
   ]
  },
  {
   "cell_type": "markdown",
   "metadata": {},
   "source": [
    "# **QUESTÕES**"
   ]
  },
  {
   "cell_type": "markdown",
   "metadata": {},
   "source": [
    "***Questão 3*** (1.0 pt):\n",
    "\n",
    "Construa uma pipeline preditiva que contém os seguintes passos:\n",
    "\n",
    "- **preprocessamento**:\n",
    "\n",
    "    - **variáveis numéricas**:\n",
    "\n",
    "        - `SimpleImputer(strategy='mean')`\n",
    "\n",
    "        - `StandardScaler()`\n",
    "\n",
    "    - **variáveis categóricas**:\n",
    "\n",
    "        - `SimpleImputer(strategy='most_frequent')`\n",
    "\n",
    "        - `OneHotEncoder(drop='first', sparse_output=False, handle_unknown='ignore')`\n",
    "\n",
    "- **classificador**:\n",
    "\n",
    "    - `HistGradientBoostingClassifier(random_state=42)`"
   ]
  },
  {
   "cell_type": "markdown",
   "metadata": {},
   "source": [
    "***Resposta***:"
   ]
  },
  {
   "cell_type": "code",
   "execution_count": 5,
   "metadata": {},
   "outputs": [],
   "source": [
    "from sklearn.compose import ColumnTransformer # Classe utilizada para aplicar transformações diferentes em colunas diferentes\n",
    "from sklearn.impute import SimpleImputer # Classe utilizada para preencher valores faltantes\n",
    "from sklearn.ensemble import HistGradientBoostingClassifier\n",
    "from sklearn.pipeline import Pipeline # Classe utilizada para encadear transformações\n",
    "from sklearn.preprocessing import OneHotEncoder # Classe utilizada para codificar variáveis categóricas, aplicado com drop='first' para evitar a multicolinearidade\n",
    "from sklearn.ensemble import HistGradientBoostingRegressor\n",
    "from sklearn.preprocessing import PolynomialFeatures, StandardScaler\n",
    "\n",
    "\n",
    "num_cols = X_train.select_dtypes(include='number').columns\n",
    "cat_cols = X_train.select_dtypes(include='category').columns\n",
    "\n",
    "numerical_pipeline = Pipeline([\n",
    "    ('imputer', SimpleImputer(strategy='mean')),\n",
    "    ('scaler', StandardScaler()),\n",
    "])\n",
    "\n",
    "categorical_pipeline = Pipeline([\n",
    "    ('imputer', SimpleImputer(strategy='most_frequent')),\n",
    "    ('encoder',\n",
    "        OneHotEncoder(\n",
    "            handle_unknown='ignore',\n",
    "            drop='first',\n",
    "            sparse_output=False,\n",
    "        )),\n",
    "])\n",
    "\n",
    "preprocessing = ColumnTransformer(transformers=[\n",
    "    ('num', numerical_pipeline, num_cols),\n",
    "    ('cat', categorical_pipeline, cat_cols),\n",
    "],)\n",
    "\n",
    "modelo = HistGradientBoostingClassifier(random_state=42)\n",
    "\n",
    "model = Pipeline([\n",
    "    ('preprocessing', preprocessing),\n",
    "    ('model', modelo),\n",
    "])\n"
   ]
  },
  {
   "cell_type": "markdown",
   "metadata": {},
   "source": [
    "***"
   ]
  },
  {
   "cell_type": "markdown",
   "metadata": {},
   "source": [
    "# **QUESTÕES**"
   ]
  },
  {
   "cell_type": "markdown",
   "metadata": {},
   "source": [
    "***Questão 4*** (1.0 pt):\n",
    "\n",
    "Use `GridSearchCV` para executar a seleção de hiperparâmetros para o modelo acima, juntamente com a comparação com dois outros modelos:\n",
    "\n",
    "- O modelo *trivial*: `DummyClassifier(strategy='most_frequent')`\n",
    "\n",
    "- O modelo *simples*: `SGDClassifier(random_state=42, alpha=0.001)`\n",
    "\n",
    "Para o modelo trivial e o modelo simples não faremos seleção de hiperparâmetros (mas em um caso real deveríamos fazer sim).\n",
    "\n",
    "Para o modelo `HistGradientBoostingClassifier` faça a seleção de hiperparâmetros com as seguintes opções:\n",
    "\n",
    "- Para o hiperparâmetro `max_iter` do classificador, teste as opções `[10, 100, 200]`\n",
    "\n",
    "- Para o hiperparâmetro `max_depth` do classificador, teste as opções `[10, 20, None]`"
   ]
  },
  {
   "cell_type": "markdown",
   "metadata": {},
   "source": [
    "***Resposta***:"
   ]
  },
  {
   "cell_type": "code",
   "execution_count": 6,
   "metadata": {},
   "outputs": [
    {
     "name": "stdout",
     "output_type": "stream",
     "text": [
      "Fitting 3 folds for each of 1 candidates, totalling 3 fits\n",
      "Fitting 3 folds for each of 1 candidates, totalling 3 fits\n",
      "Fitting 3 folds for each of 9 candidates, totalling 27 fits\n"
     ]
    }
   ],
   "source": [
    "from sklearn.model_selection import GridSearchCV\n",
    "from sklearn.dummy import DummyClassifier\n",
    "from sklearn.linear_model import SGDClassifier\n",
    "\n",
    "dummy_model = DummyClassifier(strategy='most_frequent')\n",
    "sdg_model = SGDClassifier(random_state=42, alpha=0.001)\n",
    "\n",
    "models = {\n",
    "    'dummy': {\n",
    "        'model': dummy_model,\n",
    "    },\n",
    "    'sdg': {\n",
    "        'model': sdg_model,\n",
    "    },\n",
    "    'my_model': {\n",
    "        'model': model,\n",
    "    },\n",
    "}\n",
    "\n",
    "param_grid = {\n",
    "    \"model__max_iter\": [10, 100, 200],\n",
    "    \"model__max_depth\": [10, 20, None]}\n",
    "\n",
    "params = {\n",
    "    'dummy': {},\n",
    "    'sdg': {},\n",
    "    'my_model': param_grid,\n",
    "}\n",
    "\n",
    "cv = 3\n",
    "\n",
    "for model_name, model_item in models.items():\n",
    "    model = model_item['model']\n",
    "    param_grid = params[model_name]\n",
    "\n",
    "    model_item['grid_search'] = GridSearchCV(\n",
    "        model,\n",
    "        param_grid,\n",
    "        cv=cv,\n",
    "        verbose=2,\n",
    "        n_jobs=-1,\n",
    "        return_train_score=True,\n",
    "        scoring='accuracy',\n",
    "    )\n",
    "\n",
    "for model_name, model_item in models.items():\n",
    "    grid_search = model_item['grid_search']\n",
    "    grid_search.fit(X_train_small, y_train_small)"
   ]
  },
  {
   "cell_type": "code",
   "execution_count": 7,
   "metadata": {},
   "outputs": [
    {
     "name": "stdout",
     "output_type": "stream",
     "text": [
      "dummy model:\n",
      "  - Hyperparameters search: {}\n",
      "  - Best hyperparameters: {}\n",
      "  - Best Accuracy score: 0.49\n",
      "\n",
      "sdg model:\n",
      "  - Hyperparameters search: {}\n",
      "  - Best hyperparameters: {}\n",
      "  - Best Accuracy score: 0.55\n",
      "\n",
      "my_model model:\n",
      "  - Hyperparameters search: {'model__max_iter': [10, 100, 200], 'model__max_depth': [10, 20, None]}\n",
      "  - Best hyperparameters: {'model__max_depth': 20, 'model__max_iter': 200}\n",
      "  - Best Accuracy score: 0.82\n",
      "\n"
     ]
    }
   ],
   "source": [
    "for model_name, model_item in models.items():\n",
    "    grid_search = model_item['grid_search']\n",
    "\n",
    "    print(f'{model_name} model:')\n",
    "    print(f'  - Hyperparameters search: {grid_search.param_grid}')\n",
    "    print(f'  - Best hyperparameters: {grid_search.best_params_}')\n",
    "    print(f'  - Best Accuracy score: {grid_search.best_score_:.2f}')\n",
    "    print()\n",
    "\n",
    "    df_results = pd.DataFrame(grid_search.cv_results_)\n",
    "    df_results = df_results.sort_values(by='rank_test_score')\n",
    "    df_results[['rank_test_score', 'mean_test_score', 'std_test_score', 'mean_train_score', 'std_train_score', 'params']]"
   ]
  },
  {
   "cell_type": "markdown",
   "metadata": {},
   "source": [
    "***"
   ]
  },
  {
   "cell_type": "markdown",
   "metadata": {},
   "source": [
    "Vamos ver os resultados do grid search:"
   ]
  },
  {
   "cell_type": "code",
   "execution_count": 8,
   "metadata": {},
   "outputs": [
    {
     "data": {
      "text/html": [
       "<div>\n",
       "<style scoped>\n",
       "    .dataframe tbody tr th:only-of-type {\n",
       "        vertical-align: middle;\n",
       "    }\n",
       "\n",
       "    .dataframe tbody tr th {\n",
       "        vertical-align: top;\n",
       "    }\n",
       "\n",
       "    .dataframe thead th {\n",
       "        text-align: right;\n",
       "    }\n",
       "</style>\n",
       "<table border=\"1\" class=\"dataframe\">\n",
       "  <thead>\n",
       "    <tr style=\"text-align: right;\">\n",
       "      <th></th>\n",
       "      <th>param_model__max_depth</th>\n",
       "      <th>param_model__max_iter</th>\n",
       "      <th>mean_test_score</th>\n",
       "      <th>std_test_score</th>\n",
       "      <th>mean_train_score</th>\n",
       "      <th>std_train_score</th>\n",
       "    </tr>\n",
       "  </thead>\n",
       "  <tbody>\n",
       "    <tr>\n",
       "      <th>5</th>\n",
       "      <td>20</td>\n",
       "      <td>200</td>\n",
       "      <td>0.82113</td>\n",
       "      <td>0.04276</td>\n",
       "      <td>0.85441</td>\n",
       "      <td>0.06192</td>\n",
       "    </tr>\n",
       "    <tr>\n",
       "      <th>2</th>\n",
       "      <td>10</td>\n",
       "      <td>200</td>\n",
       "      <td>0.82062</td>\n",
       "      <td>0.04228</td>\n",
       "      <td>0.85448</td>\n",
       "      <td>0.06037</td>\n",
       "    </tr>\n",
       "    <tr>\n",
       "      <th>8</th>\n",
       "      <td>None</td>\n",
       "      <td>200</td>\n",
       "      <td>0.81831</td>\n",
       "      <td>0.04217</td>\n",
       "      <td>0.85270</td>\n",
       "      <td>0.06276</td>\n",
       "    </tr>\n",
       "    <tr>\n",
       "      <th>1</th>\n",
       "      <td>10</td>\n",
       "      <td>100</td>\n",
       "      <td>0.81209</td>\n",
       "      <td>0.03248</td>\n",
       "      <td>0.84095</td>\n",
       "      <td>0.04421</td>\n",
       "    </tr>\n",
       "    <tr>\n",
       "      <th>4</th>\n",
       "      <td>20</td>\n",
       "      <td>100</td>\n",
       "      <td>0.81173</td>\n",
       "      <td>0.03133</td>\n",
       "      <td>0.84072</td>\n",
       "      <td>0.04479</td>\n",
       "    </tr>\n",
       "    <tr>\n",
       "      <th>7</th>\n",
       "      <td>None</td>\n",
       "      <td>100</td>\n",
       "      <td>0.80983</td>\n",
       "      <td>0.03141</td>\n",
       "      <td>0.83886</td>\n",
       "      <td>0.04495</td>\n",
       "    </tr>\n",
       "    <tr>\n",
       "      <th>0</th>\n",
       "      <td>10</td>\n",
       "      <td>10</td>\n",
       "      <td>0.76988</td>\n",
       "      <td>0.00202</td>\n",
       "      <td>0.78090</td>\n",
       "      <td>0.00080</td>\n",
       "    </tr>\n",
       "    <tr>\n",
       "      <th>3</th>\n",
       "      <td>20</td>\n",
       "      <td>10</td>\n",
       "      <td>0.76910</td>\n",
       "      <td>0.00081</td>\n",
       "      <td>0.78102</td>\n",
       "      <td>0.00026</td>\n",
       "    </tr>\n",
       "    <tr>\n",
       "      <th>6</th>\n",
       "      <td>None</td>\n",
       "      <td>10</td>\n",
       "      <td>0.76910</td>\n",
       "      <td>0.00081</td>\n",
       "      <td>0.78102</td>\n",
       "      <td>0.00026</td>\n",
       "    </tr>\n",
       "  </tbody>\n",
       "</table>\n",
       "</div>"
      ],
      "text/plain": [
       "  param_model__max_depth  param_model__max_iter  mean_test_score  \\\n",
       "5                     20                    200          0.82113   \n",
       "2                     10                    200          0.82062   \n",
       "8                   None                    200          0.81831   \n",
       "1                     10                    100          0.81209   \n",
       "4                     20                    100          0.81173   \n",
       "7                   None                    100          0.80983   \n",
       "0                     10                     10          0.76988   \n",
       "3                     20                     10          0.76910   \n",
       "6                   None                     10          0.76910   \n",
       "\n",
       "   std_test_score  mean_train_score  std_train_score  \n",
       "5         0.04276           0.85441          0.06192  \n",
       "2         0.04228           0.85448          0.06037  \n",
       "8         0.04217           0.85270          0.06276  \n",
       "1         0.03248           0.84095          0.04421  \n",
       "4         0.03133           0.84072          0.04479  \n",
       "7         0.03141           0.83886          0.04495  \n",
       "0         0.00202           0.78090          0.00080  \n",
       "3         0.00081           0.78102          0.00026  \n",
       "6         0.00081           0.78102          0.00026  "
      ]
     },
     "execution_count": 8,
     "metadata": {},
     "output_type": "execute_result"
    }
   ],
   "source": [
    "import pandas as pd\n",
    "\n",
    "df = pd.DataFrame(grid_search.cv_results_)\n",
    "param_split_cols = [\n",
    "    col for col in df.columns if 'param_' in col or (\n",
    "        ('mean_' in col or 'std_' in col) and 'time' not in col)\n",
    "]\n",
    "df.sort_values(by='rank_test_score').loc[:, param_split_cols].round(5)"
   ]
  },
  {
   "cell_type": "markdown",
   "metadata": {},
   "source": [
    "***"
   ]
  },
  {
   "cell_type": "markdown",
   "metadata": {},
   "source": [
    "# **QUESTÕES**"
   ]
  },
  {
   "cell_type": "markdown",
   "metadata": {},
   "source": [
    "***Questão 5*** (1.0 pts):\n",
    "\n",
    "De acordo com os dados acima, o melhor modelo está overfitando? Explique."
   ]
  },
  {
   "cell_type": "markdown",
   "metadata": {},
   "source": [
    "***Resposta***\n",
    "\n",
    "Sim, por mais que na média o score de acurácia em treinos seja apenas aproximadamente 2,5 pontos percentuais maior que no teste, isso já é passível de conclusão que o modelo está sobreajustado aos dados de treino"
   ]
  },
  {
   "cell_type": "markdown",
   "metadata": {},
   "source": [
    "***"
   ]
  },
  {
   "cell_type": "markdown",
   "metadata": {},
   "source": [
    "# **QUESTÕES**"
   ]
  },
  {
   "cell_type": "markdown",
   "metadata": {},
   "source": [
    "***Questão 6*** (1.5 pts):\n",
    "\n",
    "Para o melhor modelo da questão anterior, responda:\n",
    "\n",
    "a) (1.0 pt) Qual a acurácia de treino (`X_train`, `y_train` completos) e de teste (`X_test`, `y_test` completos) do modelo? (Requer retreinamento, claro)\n",
    "\n",
    "b) (0.5 pt) Usando a função `classification_report` (`from sklearn.metrics import classification_report`), qual o *precision* e *recall* da categoria `Douglas-fir`? Este classificador seria bom para identificar todos os locais com alguma chance de ter cobertura por árvores do tipo \"Douglas Fir\"?"
   ]
  },
  {
   "cell_type": "markdown",
   "metadata": {},
   "source": [
    "***Resposta***"
   ]
  },
  {
   "cell_type": "code",
   "execution_count": 9,
   "metadata": {},
   "outputs": [],
   "source": [
    "from sklearn.compose import ColumnTransformer # Classe utilizada para aplicar transformações diferentes em colunas diferentes\n",
    "from sklearn.impute import SimpleImputer # Classe utilizada para preencher valores faltantes\n",
    "from sklearn.ensemble import HistGradientBoostingClassifier\n",
    "from sklearn.pipeline import Pipeline # Classe utilizada para encadear transformações\n",
    "from sklearn.preprocessing import OneHotEncoder # Classe utilizada para codificar variáveis categóricas, aplicado com drop='first' para evitar a multicolinearidade\n",
    "from sklearn.preprocessing import StandardScaler\n",
    "\n",
    "\n",
    "num_cols = X_train.select_dtypes(include='number').columns\n",
    "cat_cols = X_train.select_dtypes(include='category').columns\n",
    "\n",
    "numerical_pipeline = Pipeline([\n",
    "    ('imputer', SimpleImputer(strategy='mean')),\n",
    "    ('scaler', StandardScaler()),\n",
    "])\n",
    "\n",
    "categorical_pipeline = Pipeline([\n",
    "    ('imputer', SimpleImputer(strategy='most_frequent')),\n",
    "    ('encoder',\n",
    "        OneHotEncoder(\n",
    "            handle_unknown='ignore',\n",
    "            drop='first',\n",
    "            sparse_output=False,\n",
    "        )),\n",
    "])\n",
    "\n",
    "preprocessing = ColumnTransformer(transformers=[\n",
    "    ('num', numerical_pipeline, num_cols),\n",
    "    ('cat', categorical_pipeline, cat_cols),\n",
    "],)\n",
    "\n",
    "modelo = HistGradientBoostingClassifier(random_state=42, max_depth=20, max_iter=200)\n",
    "\n",
    "final_model = Pipeline([\n",
    "    ('preprocessing', preprocessing),\n",
    "    ('model', modelo),\n",
    "])\n"
   ]
  },
  {
   "cell_type": "code",
   "execution_count": 10,
   "metadata": {},
   "outputs": [],
   "source": [
    "from sklearn.metrics import accuracy_score\n",
    "# A acurácia é uma das métricas de classificação que nós temos, sendo a proporção de acertos do modelo\n",
    "# Ela é calculada como a razão entre o número de acertos e o número total de exemplo\n",
    "\n",
    "final_model.fit(X_train, y_train)\n",
    "y_train_pred = final_model.predict(X_train)\n",
    "accuracy_train = accuracy_score(y_train, y_train_pred)\n",
    "\n",
    "final_model.fit(X_test, y_test)\n",
    "y_test_pred = final_model.predict(X_test)\n",
    "accuracy_test = accuracy_score(y_test, y_test_pred)"
   ]
  },
  {
   "cell_type": "code",
   "execution_count": 11,
   "metadata": {},
   "outputs": [
    {
     "data": {
      "text/plain": [
       "(0.8319202080854716, 0.7821742984260303)"
      ]
     },
     "execution_count": 11,
     "metadata": {},
     "output_type": "execute_result"
    }
   ],
   "source": [
    "accuracy_train, accuracy_test"
   ]
  },
  {
   "cell_type": "markdown",
   "metadata": {},
   "source": [
    "A: A acurácia de treino com as amostras completas é de aproximadamente 83,19% e a de teste é de 78,22%"
   ]
  },
  {
   "cell_type": "code",
   "execution_count": 12,
   "metadata": {},
   "outputs": [
    {
     "data": {
      "text/plain": [
       "{'precision': 0.7359307359307359,\n",
       " 'recall': 0.440668202764977,\n",
       " 'f1-score': 0.5512520266618627,\n",
       " 'support': 3472.0}"
      ]
     },
     "execution_count": 12,
     "metadata": {},
     "output_type": "execute_result"
    }
   ],
   "source": [
    "from sklearn.metrics import classification_report\n",
    "\n",
    "classification_report(y_test, y_test_pred, output_dict=True)['Douglas-fir']"
   ]
  },
  {
   "cell_type": "markdown",
   "metadata": {},
   "source": [
    "B: O precision e recall para Douglas-fir são respectivamente aproximadamente, 0.736 e 0.441. Tendo em vista, que o recall é extremamente baixo, logo esse modelo não seria bom para identificar Douglas-fir em lugares que possuem alguma chance de existência de tais árvores, uma vez que ele peca no quesito de identificar os realmente positivos dentro todos os positivos existentes"
   ]
  },
  {
   "cell_type": "markdown",
   "metadata": {},
   "source": [
    "***"
   ]
  },
  {
   "cell_type": "markdown",
   "metadata": {},
   "source": [
    "Agora vamos supor que o problema é detectar se um terreno contém árvores do tipo `Spruce/Fir` ou `Douglas-fir`:"
   ]
  },
  {
   "cell_type": "code",
   "execution_count": 13,
   "metadata": {},
   "outputs": [],
   "source": [
    "fir_classes = ['Spruce/Fir', 'Douglas-fir']\n",
    "\n",
    "y_train_binary = y_train.isin(fir_classes)\n",
    "y_test_binary = y_test.isin(fir_classes)"
   ]
  },
  {
   "cell_type": "markdown",
   "metadata": {},
   "source": [
    "***"
   ]
  },
  {
   "cell_type": "markdown",
   "metadata": {},
   "source": [
    "# **QUESTÕES**"
   ]
  },
  {
   "cell_type": "markdown",
   "metadata": {},
   "source": [
    "***Questão 7*** (3.0 pts)\n",
    "\n",
    "Para o modelo original (sem ajuste de hiperparâmetros, só para simplificar):\n",
    "\n",
    "a) (1.0 pt) Treine o modelo no conjunto de treino e obtenha predições de probabilidade de classe positiva (`predict_proba`) no conjunto de teste.\n",
    "\n",
    "b) (1.0 pt) Mostre a curva precision-recall\n",
    "\n",
    "c) (1.0 pt) Mostre a curva ROC\n"
   ]
  },
  {
   "cell_type": "markdown",
   "metadata": {},
   "source": [
    "***Resposta***"
   ]
  },
  {
   "cell_type": "code",
   "execution_count": 14,
   "metadata": {},
   "outputs": [],
   "source": [
    "from sklearn.compose import ColumnTransformer # Classe utilizada para aplicar transformações diferentes em colunas diferentes\n",
    "from sklearn.impute import SimpleImputer # Classe utilizada para preencher valores faltantes\n",
    "from sklearn.ensemble import HistGradientBoostingClassifier\n",
    "from sklearn.pipeline import Pipeline # Classe utilizada para encadear transformações\n",
    "from sklearn.preprocessing import OneHotEncoder # Classe utilizada para codificar variáveis categóricas, aplicado com drop='first' para evitar a multicolinearidade\n",
    "from sklearn.preprocessing import StandardScaler\n",
    "\n",
    "\n",
    "num_cols = X_train.select_dtypes(include='number').columns\n",
    "cat_cols = X_train.select_dtypes(include='category').columns\n",
    "\n",
    "numerical_pipeline = Pipeline([\n",
    "    ('imputer', SimpleImputer(strategy='mean')),\n",
    "    ('scaler', StandardScaler()),\n",
    "])\n",
    "\n",
    "categorical_pipeline = Pipeline([\n",
    "    ('imputer', SimpleImputer(strategy='most_frequent')),\n",
    "    ('encoder',\n",
    "        OneHotEncoder(\n",
    "            handle_unknown='ignore',\n",
    "            drop='first',\n",
    "            sparse_output=False,\n",
    "        )),\n",
    "])\n",
    "\n",
    "preprocessing = ColumnTransformer(transformers=[\n",
    "    ('num', numerical_pipeline, num_cols),\n",
    "    ('cat', categorical_pipeline, cat_cols),\n",
    "],)\n",
    "\n",
    "modelo = HistGradientBoostingClassifier(random_state=42)\n",
    "\n",
    "model = Pipeline([\n",
    "    ('preprocessing', preprocessing),\n",
    "    ('model', modelo),\n",
    "])\n"
   ]
  },
  {
   "cell_type": "code",
   "execution_count": 15,
   "metadata": {},
   "outputs": [
    {
     "data": {
      "text/html": [
       "<style>#sk-container-id-1 {\n",
       "  /* Definition of color scheme common for light and dark mode */\n",
       "  --sklearn-color-text: #000;\n",
       "  --sklearn-color-text-muted: #666;\n",
       "  --sklearn-color-line: gray;\n",
       "  /* Definition of color scheme for unfitted estimators */\n",
       "  --sklearn-color-unfitted-level-0: #fff5e6;\n",
       "  --sklearn-color-unfitted-level-1: #f6e4d2;\n",
       "  --sklearn-color-unfitted-level-2: #ffe0b3;\n",
       "  --sklearn-color-unfitted-level-3: chocolate;\n",
       "  /* Definition of color scheme for fitted estimators */\n",
       "  --sklearn-color-fitted-level-0: #f0f8ff;\n",
       "  --sklearn-color-fitted-level-1: #d4ebff;\n",
       "  --sklearn-color-fitted-level-2: #b3dbfd;\n",
       "  --sklearn-color-fitted-level-3: cornflowerblue;\n",
       "\n",
       "  /* Specific color for light theme */\n",
       "  --sklearn-color-text-on-default-background: var(--sg-text-color, var(--theme-code-foreground, var(--jp-content-font-color1, black)));\n",
       "  --sklearn-color-background: var(--sg-background-color, var(--theme-background, var(--jp-layout-color0, white)));\n",
       "  --sklearn-color-border-box: var(--sg-text-color, var(--theme-code-foreground, var(--jp-content-font-color1, black)));\n",
       "  --sklearn-color-icon: #696969;\n",
       "\n",
       "  @media (prefers-color-scheme: dark) {\n",
       "    /* Redefinition of color scheme for dark theme */\n",
       "    --sklearn-color-text-on-default-background: var(--sg-text-color, var(--theme-code-foreground, var(--jp-content-font-color1, white)));\n",
       "    --sklearn-color-background: var(--sg-background-color, var(--theme-background, var(--jp-layout-color0, #111)));\n",
       "    --sklearn-color-border-box: var(--sg-text-color, var(--theme-code-foreground, var(--jp-content-font-color1, white)));\n",
       "    --sklearn-color-icon: #878787;\n",
       "  }\n",
       "}\n",
       "\n",
       "#sk-container-id-1 {\n",
       "  color: var(--sklearn-color-text);\n",
       "}\n",
       "\n",
       "#sk-container-id-1 pre {\n",
       "  padding: 0;\n",
       "}\n",
       "\n",
       "#sk-container-id-1 input.sk-hidden--visually {\n",
       "  border: 0;\n",
       "  clip: rect(1px 1px 1px 1px);\n",
       "  clip: rect(1px, 1px, 1px, 1px);\n",
       "  height: 1px;\n",
       "  margin: -1px;\n",
       "  overflow: hidden;\n",
       "  padding: 0;\n",
       "  position: absolute;\n",
       "  width: 1px;\n",
       "}\n",
       "\n",
       "#sk-container-id-1 div.sk-dashed-wrapped {\n",
       "  border: 1px dashed var(--sklearn-color-line);\n",
       "  margin: 0 0.4em 0.5em 0.4em;\n",
       "  box-sizing: border-box;\n",
       "  padding-bottom: 0.4em;\n",
       "  background-color: var(--sklearn-color-background);\n",
       "}\n",
       "\n",
       "#sk-container-id-1 div.sk-container {\n",
       "  /* jupyter's `normalize.less` sets `[hidden] { display: none; }`\n",
       "     but bootstrap.min.css set `[hidden] { display: none !important; }`\n",
       "     so we also need the `!important` here to be able to override the\n",
       "     default hidden behavior on the sphinx rendered scikit-learn.org.\n",
       "     See: https://github.com/scikit-learn/scikit-learn/issues/21755 */\n",
       "  display: inline-block !important;\n",
       "  position: relative;\n",
       "}\n",
       "\n",
       "#sk-container-id-1 div.sk-text-repr-fallback {\n",
       "  display: none;\n",
       "}\n",
       "\n",
       "div.sk-parallel-item,\n",
       "div.sk-serial,\n",
       "div.sk-item {\n",
       "  /* draw centered vertical line to link estimators */\n",
       "  background-image: linear-gradient(var(--sklearn-color-text-on-default-background), var(--sklearn-color-text-on-default-background));\n",
       "  background-size: 2px 100%;\n",
       "  background-repeat: no-repeat;\n",
       "  background-position: center center;\n",
       "}\n",
       "\n",
       "/* Parallel-specific style estimator block */\n",
       "\n",
       "#sk-container-id-1 div.sk-parallel-item::after {\n",
       "  content: \"\";\n",
       "  width: 100%;\n",
       "  border-bottom: 2px solid var(--sklearn-color-text-on-default-background);\n",
       "  flex-grow: 1;\n",
       "}\n",
       "\n",
       "#sk-container-id-1 div.sk-parallel {\n",
       "  display: flex;\n",
       "  align-items: stretch;\n",
       "  justify-content: center;\n",
       "  background-color: var(--sklearn-color-background);\n",
       "  position: relative;\n",
       "}\n",
       "\n",
       "#sk-container-id-1 div.sk-parallel-item {\n",
       "  display: flex;\n",
       "  flex-direction: column;\n",
       "}\n",
       "\n",
       "#sk-container-id-1 div.sk-parallel-item:first-child::after {\n",
       "  align-self: flex-end;\n",
       "  width: 50%;\n",
       "}\n",
       "\n",
       "#sk-container-id-1 div.sk-parallel-item:last-child::after {\n",
       "  align-self: flex-start;\n",
       "  width: 50%;\n",
       "}\n",
       "\n",
       "#sk-container-id-1 div.sk-parallel-item:only-child::after {\n",
       "  width: 0;\n",
       "}\n",
       "\n",
       "/* Serial-specific style estimator block */\n",
       "\n",
       "#sk-container-id-1 div.sk-serial {\n",
       "  display: flex;\n",
       "  flex-direction: column;\n",
       "  align-items: center;\n",
       "  background-color: var(--sklearn-color-background);\n",
       "  padding-right: 1em;\n",
       "  padding-left: 1em;\n",
       "}\n",
       "\n",
       "\n",
       "/* Toggleable style: style used for estimator/Pipeline/ColumnTransformer box that is\n",
       "clickable and can be expanded/collapsed.\n",
       "- Pipeline and ColumnTransformer use this feature and define the default style\n",
       "- Estimators will overwrite some part of the style using the `sk-estimator` class\n",
       "*/\n",
       "\n",
       "/* Pipeline and ColumnTransformer style (default) */\n",
       "\n",
       "#sk-container-id-1 div.sk-toggleable {\n",
       "  /* Default theme specific background. It is overwritten whether we have a\n",
       "  specific estimator or a Pipeline/ColumnTransformer */\n",
       "  background-color: var(--sklearn-color-background);\n",
       "}\n",
       "\n",
       "/* Toggleable label */\n",
       "#sk-container-id-1 label.sk-toggleable__label {\n",
       "  cursor: pointer;\n",
       "  display: flex;\n",
       "  width: 100%;\n",
       "  margin-bottom: 0;\n",
       "  padding: 0.5em;\n",
       "  box-sizing: border-box;\n",
       "  text-align: center;\n",
       "  align-items: start;\n",
       "  justify-content: space-between;\n",
       "  gap: 0.5em;\n",
       "}\n",
       "\n",
       "#sk-container-id-1 label.sk-toggleable__label .caption {\n",
       "  font-size: 0.6rem;\n",
       "  font-weight: lighter;\n",
       "  color: var(--sklearn-color-text-muted);\n",
       "}\n",
       "\n",
       "#sk-container-id-1 label.sk-toggleable__label-arrow:before {\n",
       "  /* Arrow on the left of the label */\n",
       "  content: \"▸\";\n",
       "  float: left;\n",
       "  margin-right: 0.25em;\n",
       "  color: var(--sklearn-color-icon);\n",
       "}\n",
       "\n",
       "#sk-container-id-1 label.sk-toggleable__label-arrow:hover:before {\n",
       "  color: var(--sklearn-color-text);\n",
       "}\n",
       "\n",
       "/* Toggleable content - dropdown */\n",
       "\n",
       "#sk-container-id-1 div.sk-toggleable__content {\n",
       "  max-height: 0;\n",
       "  max-width: 0;\n",
       "  overflow: hidden;\n",
       "  text-align: left;\n",
       "  /* unfitted */\n",
       "  background-color: var(--sklearn-color-unfitted-level-0);\n",
       "}\n",
       "\n",
       "#sk-container-id-1 div.sk-toggleable__content.fitted {\n",
       "  /* fitted */\n",
       "  background-color: var(--sklearn-color-fitted-level-0);\n",
       "}\n",
       "\n",
       "#sk-container-id-1 div.sk-toggleable__content pre {\n",
       "  margin: 0.2em;\n",
       "  border-radius: 0.25em;\n",
       "  color: var(--sklearn-color-text);\n",
       "  /* unfitted */\n",
       "  background-color: var(--sklearn-color-unfitted-level-0);\n",
       "}\n",
       "\n",
       "#sk-container-id-1 div.sk-toggleable__content.fitted pre {\n",
       "  /* unfitted */\n",
       "  background-color: var(--sklearn-color-fitted-level-0);\n",
       "}\n",
       "\n",
       "#sk-container-id-1 input.sk-toggleable__control:checked~div.sk-toggleable__content {\n",
       "  /* Expand drop-down */\n",
       "  max-height: 200px;\n",
       "  max-width: 100%;\n",
       "  overflow: auto;\n",
       "}\n",
       "\n",
       "#sk-container-id-1 input.sk-toggleable__control:checked~label.sk-toggleable__label-arrow:before {\n",
       "  content: \"▾\";\n",
       "}\n",
       "\n",
       "/* Pipeline/ColumnTransformer-specific style */\n",
       "\n",
       "#sk-container-id-1 div.sk-label input.sk-toggleable__control:checked~label.sk-toggleable__label {\n",
       "  color: var(--sklearn-color-text);\n",
       "  background-color: var(--sklearn-color-unfitted-level-2);\n",
       "}\n",
       "\n",
       "#sk-container-id-1 div.sk-label.fitted input.sk-toggleable__control:checked~label.sk-toggleable__label {\n",
       "  background-color: var(--sklearn-color-fitted-level-2);\n",
       "}\n",
       "\n",
       "/* Estimator-specific style */\n",
       "\n",
       "/* Colorize estimator box */\n",
       "#sk-container-id-1 div.sk-estimator input.sk-toggleable__control:checked~label.sk-toggleable__label {\n",
       "  /* unfitted */\n",
       "  background-color: var(--sklearn-color-unfitted-level-2);\n",
       "}\n",
       "\n",
       "#sk-container-id-1 div.sk-estimator.fitted input.sk-toggleable__control:checked~label.sk-toggleable__label {\n",
       "  /* fitted */\n",
       "  background-color: var(--sklearn-color-fitted-level-2);\n",
       "}\n",
       "\n",
       "#sk-container-id-1 div.sk-label label.sk-toggleable__label,\n",
       "#sk-container-id-1 div.sk-label label {\n",
       "  /* The background is the default theme color */\n",
       "  color: var(--sklearn-color-text-on-default-background);\n",
       "}\n",
       "\n",
       "/* On hover, darken the color of the background */\n",
       "#sk-container-id-1 div.sk-label:hover label.sk-toggleable__label {\n",
       "  color: var(--sklearn-color-text);\n",
       "  background-color: var(--sklearn-color-unfitted-level-2);\n",
       "}\n",
       "\n",
       "/* Label box, darken color on hover, fitted */\n",
       "#sk-container-id-1 div.sk-label.fitted:hover label.sk-toggleable__label.fitted {\n",
       "  color: var(--sklearn-color-text);\n",
       "  background-color: var(--sklearn-color-fitted-level-2);\n",
       "}\n",
       "\n",
       "/* Estimator label */\n",
       "\n",
       "#sk-container-id-1 div.sk-label label {\n",
       "  font-family: monospace;\n",
       "  font-weight: bold;\n",
       "  display: inline-block;\n",
       "  line-height: 1.2em;\n",
       "}\n",
       "\n",
       "#sk-container-id-1 div.sk-label-container {\n",
       "  text-align: center;\n",
       "}\n",
       "\n",
       "/* Estimator-specific */\n",
       "#sk-container-id-1 div.sk-estimator {\n",
       "  font-family: monospace;\n",
       "  border: 1px dotted var(--sklearn-color-border-box);\n",
       "  border-radius: 0.25em;\n",
       "  box-sizing: border-box;\n",
       "  margin-bottom: 0.5em;\n",
       "  /* unfitted */\n",
       "  background-color: var(--sklearn-color-unfitted-level-0);\n",
       "}\n",
       "\n",
       "#sk-container-id-1 div.sk-estimator.fitted {\n",
       "  /* fitted */\n",
       "  background-color: var(--sklearn-color-fitted-level-0);\n",
       "}\n",
       "\n",
       "/* on hover */\n",
       "#sk-container-id-1 div.sk-estimator:hover {\n",
       "  /* unfitted */\n",
       "  background-color: var(--sklearn-color-unfitted-level-2);\n",
       "}\n",
       "\n",
       "#sk-container-id-1 div.sk-estimator.fitted:hover {\n",
       "  /* fitted */\n",
       "  background-color: var(--sklearn-color-fitted-level-2);\n",
       "}\n",
       "\n",
       "/* Specification for estimator info (e.g. \"i\" and \"?\") */\n",
       "\n",
       "/* Common style for \"i\" and \"?\" */\n",
       "\n",
       ".sk-estimator-doc-link,\n",
       "a:link.sk-estimator-doc-link,\n",
       "a:visited.sk-estimator-doc-link {\n",
       "  float: right;\n",
       "  font-size: smaller;\n",
       "  line-height: 1em;\n",
       "  font-family: monospace;\n",
       "  background-color: var(--sklearn-color-background);\n",
       "  border-radius: 1em;\n",
       "  height: 1em;\n",
       "  width: 1em;\n",
       "  text-decoration: none !important;\n",
       "  margin-left: 0.5em;\n",
       "  text-align: center;\n",
       "  /* unfitted */\n",
       "  border: var(--sklearn-color-unfitted-level-1) 1pt solid;\n",
       "  color: var(--sklearn-color-unfitted-level-1);\n",
       "}\n",
       "\n",
       ".sk-estimator-doc-link.fitted,\n",
       "a:link.sk-estimator-doc-link.fitted,\n",
       "a:visited.sk-estimator-doc-link.fitted {\n",
       "  /* fitted */\n",
       "  border: var(--sklearn-color-fitted-level-1) 1pt solid;\n",
       "  color: var(--sklearn-color-fitted-level-1);\n",
       "}\n",
       "\n",
       "/* On hover */\n",
       "div.sk-estimator:hover .sk-estimator-doc-link:hover,\n",
       ".sk-estimator-doc-link:hover,\n",
       "div.sk-label-container:hover .sk-estimator-doc-link:hover,\n",
       ".sk-estimator-doc-link:hover {\n",
       "  /* unfitted */\n",
       "  background-color: var(--sklearn-color-unfitted-level-3);\n",
       "  color: var(--sklearn-color-background);\n",
       "  text-decoration: none;\n",
       "}\n",
       "\n",
       "div.sk-estimator.fitted:hover .sk-estimator-doc-link.fitted:hover,\n",
       ".sk-estimator-doc-link.fitted:hover,\n",
       "div.sk-label-container:hover .sk-estimator-doc-link.fitted:hover,\n",
       ".sk-estimator-doc-link.fitted:hover {\n",
       "  /* fitted */\n",
       "  background-color: var(--sklearn-color-fitted-level-3);\n",
       "  color: var(--sklearn-color-background);\n",
       "  text-decoration: none;\n",
       "}\n",
       "\n",
       "/* Span, style for the box shown on hovering the info icon */\n",
       ".sk-estimator-doc-link span {\n",
       "  display: none;\n",
       "  z-index: 9999;\n",
       "  position: relative;\n",
       "  font-weight: normal;\n",
       "  right: .2ex;\n",
       "  padding: .5ex;\n",
       "  margin: .5ex;\n",
       "  width: min-content;\n",
       "  min-width: 20ex;\n",
       "  max-width: 50ex;\n",
       "  color: var(--sklearn-color-text);\n",
       "  box-shadow: 2pt 2pt 4pt #999;\n",
       "  /* unfitted */\n",
       "  background: var(--sklearn-color-unfitted-level-0);\n",
       "  border: .5pt solid var(--sklearn-color-unfitted-level-3);\n",
       "}\n",
       "\n",
       ".sk-estimator-doc-link.fitted span {\n",
       "  /* fitted */\n",
       "  background: var(--sklearn-color-fitted-level-0);\n",
       "  border: var(--sklearn-color-fitted-level-3);\n",
       "}\n",
       "\n",
       ".sk-estimator-doc-link:hover span {\n",
       "  display: block;\n",
       "}\n",
       "\n",
       "/* \"?\"-specific style due to the `<a>` HTML tag */\n",
       "\n",
       "#sk-container-id-1 a.estimator_doc_link {\n",
       "  float: right;\n",
       "  font-size: 1rem;\n",
       "  line-height: 1em;\n",
       "  font-family: monospace;\n",
       "  background-color: var(--sklearn-color-background);\n",
       "  border-radius: 1rem;\n",
       "  height: 1rem;\n",
       "  width: 1rem;\n",
       "  text-decoration: none;\n",
       "  /* unfitted */\n",
       "  color: var(--sklearn-color-unfitted-level-1);\n",
       "  border: var(--sklearn-color-unfitted-level-1) 1pt solid;\n",
       "}\n",
       "\n",
       "#sk-container-id-1 a.estimator_doc_link.fitted {\n",
       "  /* fitted */\n",
       "  border: var(--sklearn-color-fitted-level-1) 1pt solid;\n",
       "  color: var(--sklearn-color-fitted-level-1);\n",
       "}\n",
       "\n",
       "/* On hover */\n",
       "#sk-container-id-1 a.estimator_doc_link:hover {\n",
       "  /* unfitted */\n",
       "  background-color: var(--sklearn-color-unfitted-level-3);\n",
       "  color: var(--sklearn-color-background);\n",
       "  text-decoration: none;\n",
       "}\n",
       "\n",
       "#sk-container-id-1 a.estimator_doc_link.fitted:hover {\n",
       "  /* fitted */\n",
       "  background-color: var(--sklearn-color-fitted-level-3);\n",
       "}\n",
       "</style><div id=\"sk-container-id-1\" class=\"sk-top-container\"><div class=\"sk-text-repr-fallback\"><pre>Pipeline(steps=[(&#x27;preprocessing&#x27;,\n",
       "                 ColumnTransformer(transformers=[(&#x27;num&#x27;,\n",
       "                                                  Pipeline(steps=[(&#x27;imputer&#x27;,\n",
       "                                                                   SimpleImputer()),\n",
       "                                                                  (&#x27;scaler&#x27;,\n",
       "                                                                   StandardScaler())]),\n",
       "                                                  Index([&#x27;Elevation&#x27;, &#x27;Aspect&#x27;, &#x27;Slope&#x27;, &#x27;Horizontal_Distance_To_Hydrology&#x27;,\n",
       "       &#x27;Vertical_Distance_To_Hydrology&#x27;, &#x27;Horizontal_Distance_To_Roadways&#x27;,\n",
       "       &#x27;Hillshade_9am&#x27;, &#x27;Hillshade_Noon&#x27;, &#x27;Hillshade_3pm&#x27;,\n",
       "       &#x27;Horizontal_Distance_To_Fire_Points&#x27;],\n",
       "      dtype=&#x27;object&#x27;)),\n",
       "                                                 (&#x27;cat&#x27;,\n",
       "                                                  Pipeline(steps=[(&#x27;imputer&#x27;,\n",
       "                                                                   SimpleImputer(strategy=&#x27;most_frequent&#x27;)),\n",
       "                                                                  (&#x27;encoder&#x27;,\n",
       "                                                                   OneHotEncoder(drop=&#x27;first&#x27;,\n",
       "                                                                                 handle_unknown=&#x27;ignore&#x27;,\n",
       "                                                                                 sparse_output=False))]),\n",
       "                                                  Index([&#x27;Soil_Type&#x27;, &#x27;Wilderness_Area&#x27;], dtype=&#x27;object&#x27;))])),\n",
       "                (&#x27;model&#x27;, HistGradientBoostingClassifier(random_state=42))])</pre><b>In a Jupyter environment, please rerun this cell to show the HTML representation or trust the notebook. <br />On GitHub, the HTML representation is unable to render, please try loading this page with nbviewer.org.</b></div><div class=\"sk-container\" hidden><div class=\"sk-item sk-dashed-wrapped\"><div class=\"sk-label-container\"><div class=\"sk-label fitted sk-toggleable\"><input class=\"sk-toggleable__control sk-hidden--visually\" id=\"sk-estimator-id-1\" type=\"checkbox\" ><label for=\"sk-estimator-id-1\" class=\"sk-toggleable__label fitted sk-toggleable__label-arrow\"><div><div>Pipeline</div></div><div><a class=\"sk-estimator-doc-link fitted\" rel=\"noreferrer\" target=\"_blank\" href=\"https://scikit-learn.org/1.6/modules/generated/sklearn.pipeline.Pipeline.html\">?<span>Documentation for Pipeline</span></a><span class=\"sk-estimator-doc-link fitted\">i<span>Fitted</span></span></div></label><div class=\"sk-toggleable__content fitted\"><pre>Pipeline(steps=[(&#x27;preprocessing&#x27;,\n",
       "                 ColumnTransformer(transformers=[(&#x27;num&#x27;,\n",
       "                                                  Pipeline(steps=[(&#x27;imputer&#x27;,\n",
       "                                                                   SimpleImputer()),\n",
       "                                                                  (&#x27;scaler&#x27;,\n",
       "                                                                   StandardScaler())]),\n",
       "                                                  Index([&#x27;Elevation&#x27;, &#x27;Aspect&#x27;, &#x27;Slope&#x27;, &#x27;Horizontal_Distance_To_Hydrology&#x27;,\n",
       "       &#x27;Vertical_Distance_To_Hydrology&#x27;, &#x27;Horizontal_Distance_To_Roadways&#x27;,\n",
       "       &#x27;Hillshade_9am&#x27;, &#x27;Hillshade_Noon&#x27;, &#x27;Hillshade_3pm&#x27;,\n",
       "       &#x27;Horizontal_Distance_To_Fire_Points&#x27;],\n",
       "      dtype=&#x27;object&#x27;)),\n",
       "                                                 (&#x27;cat&#x27;,\n",
       "                                                  Pipeline(steps=[(&#x27;imputer&#x27;,\n",
       "                                                                   SimpleImputer(strategy=&#x27;most_frequent&#x27;)),\n",
       "                                                                  (&#x27;encoder&#x27;,\n",
       "                                                                   OneHotEncoder(drop=&#x27;first&#x27;,\n",
       "                                                                                 handle_unknown=&#x27;ignore&#x27;,\n",
       "                                                                                 sparse_output=False))]),\n",
       "                                                  Index([&#x27;Soil_Type&#x27;, &#x27;Wilderness_Area&#x27;], dtype=&#x27;object&#x27;))])),\n",
       "                (&#x27;model&#x27;, HistGradientBoostingClassifier(random_state=42))])</pre></div> </div></div><div class=\"sk-serial\"><div class=\"sk-item sk-dashed-wrapped\"><div class=\"sk-label-container\"><div class=\"sk-label fitted sk-toggleable\"><input class=\"sk-toggleable__control sk-hidden--visually\" id=\"sk-estimator-id-2\" type=\"checkbox\" ><label for=\"sk-estimator-id-2\" class=\"sk-toggleable__label fitted sk-toggleable__label-arrow\"><div><div>preprocessing: ColumnTransformer</div></div><div><a class=\"sk-estimator-doc-link fitted\" rel=\"noreferrer\" target=\"_blank\" href=\"https://scikit-learn.org/1.6/modules/generated/sklearn.compose.ColumnTransformer.html\">?<span>Documentation for preprocessing: ColumnTransformer</span></a></div></label><div class=\"sk-toggleable__content fitted\"><pre>ColumnTransformer(transformers=[(&#x27;num&#x27;,\n",
       "                                 Pipeline(steps=[(&#x27;imputer&#x27;, SimpleImputer()),\n",
       "                                                 (&#x27;scaler&#x27;, StandardScaler())]),\n",
       "                                 Index([&#x27;Elevation&#x27;, &#x27;Aspect&#x27;, &#x27;Slope&#x27;, &#x27;Horizontal_Distance_To_Hydrology&#x27;,\n",
       "       &#x27;Vertical_Distance_To_Hydrology&#x27;, &#x27;Horizontal_Distance_To_Roadways&#x27;,\n",
       "       &#x27;Hillshade_9am&#x27;, &#x27;Hillshade_Noon&#x27;, &#x27;Hillshade_3pm&#x27;,\n",
       "       &#x27;Horizontal_Distance_To_Fire_Points&#x27;],\n",
       "      dtype=&#x27;object&#x27;)),\n",
       "                                (&#x27;cat&#x27;,\n",
       "                                 Pipeline(steps=[(&#x27;imputer&#x27;,\n",
       "                                                  SimpleImputer(strategy=&#x27;most_frequent&#x27;)),\n",
       "                                                 (&#x27;encoder&#x27;,\n",
       "                                                  OneHotEncoder(drop=&#x27;first&#x27;,\n",
       "                                                                handle_unknown=&#x27;ignore&#x27;,\n",
       "                                                                sparse_output=False))]),\n",
       "                                 Index([&#x27;Soil_Type&#x27;, &#x27;Wilderness_Area&#x27;], dtype=&#x27;object&#x27;))])</pre></div> </div></div><div class=\"sk-parallel\"><div class=\"sk-parallel-item\"><div class=\"sk-item\"><div class=\"sk-label-container\"><div class=\"sk-label fitted sk-toggleable\"><input class=\"sk-toggleable__control sk-hidden--visually\" id=\"sk-estimator-id-3\" type=\"checkbox\" ><label for=\"sk-estimator-id-3\" class=\"sk-toggleable__label fitted sk-toggleable__label-arrow\"><div><div>num</div></div></label><div class=\"sk-toggleable__content fitted\"><pre>Index([&#x27;Elevation&#x27;, &#x27;Aspect&#x27;, &#x27;Slope&#x27;, &#x27;Horizontal_Distance_To_Hydrology&#x27;,\n",
       "       &#x27;Vertical_Distance_To_Hydrology&#x27;, &#x27;Horizontal_Distance_To_Roadways&#x27;,\n",
       "       &#x27;Hillshade_9am&#x27;, &#x27;Hillshade_Noon&#x27;, &#x27;Hillshade_3pm&#x27;,\n",
       "       &#x27;Horizontal_Distance_To_Fire_Points&#x27;],\n",
       "      dtype=&#x27;object&#x27;)</pre></div> </div></div><div class=\"sk-serial\"><div class=\"sk-item\"><div class=\"sk-serial\"><div class=\"sk-item\"><div class=\"sk-estimator fitted sk-toggleable\"><input class=\"sk-toggleable__control sk-hidden--visually\" id=\"sk-estimator-id-4\" type=\"checkbox\" ><label for=\"sk-estimator-id-4\" class=\"sk-toggleable__label fitted sk-toggleable__label-arrow\"><div><div>SimpleImputer</div></div><div><a class=\"sk-estimator-doc-link fitted\" rel=\"noreferrer\" target=\"_blank\" href=\"https://scikit-learn.org/1.6/modules/generated/sklearn.impute.SimpleImputer.html\">?<span>Documentation for SimpleImputer</span></a></div></label><div class=\"sk-toggleable__content fitted\"><pre>SimpleImputer()</pre></div> </div></div><div class=\"sk-item\"><div class=\"sk-estimator fitted sk-toggleable\"><input class=\"sk-toggleable__control sk-hidden--visually\" id=\"sk-estimator-id-5\" type=\"checkbox\" ><label for=\"sk-estimator-id-5\" class=\"sk-toggleable__label fitted sk-toggleable__label-arrow\"><div><div>StandardScaler</div></div><div><a class=\"sk-estimator-doc-link fitted\" rel=\"noreferrer\" target=\"_blank\" href=\"https://scikit-learn.org/1.6/modules/generated/sklearn.preprocessing.StandardScaler.html\">?<span>Documentation for StandardScaler</span></a></div></label><div class=\"sk-toggleable__content fitted\"><pre>StandardScaler()</pre></div> </div></div></div></div></div></div></div><div class=\"sk-parallel-item\"><div class=\"sk-item\"><div class=\"sk-label-container\"><div class=\"sk-label fitted sk-toggleable\"><input class=\"sk-toggleable__control sk-hidden--visually\" id=\"sk-estimator-id-6\" type=\"checkbox\" ><label for=\"sk-estimator-id-6\" class=\"sk-toggleable__label fitted sk-toggleable__label-arrow\"><div><div>cat</div></div></label><div class=\"sk-toggleable__content fitted\"><pre>Index([&#x27;Soil_Type&#x27;, &#x27;Wilderness_Area&#x27;], dtype=&#x27;object&#x27;)</pre></div> </div></div><div class=\"sk-serial\"><div class=\"sk-item\"><div class=\"sk-serial\"><div class=\"sk-item\"><div class=\"sk-estimator fitted sk-toggleable\"><input class=\"sk-toggleable__control sk-hidden--visually\" id=\"sk-estimator-id-7\" type=\"checkbox\" ><label for=\"sk-estimator-id-7\" class=\"sk-toggleable__label fitted sk-toggleable__label-arrow\"><div><div>SimpleImputer</div></div><div><a class=\"sk-estimator-doc-link fitted\" rel=\"noreferrer\" target=\"_blank\" href=\"https://scikit-learn.org/1.6/modules/generated/sklearn.impute.SimpleImputer.html\">?<span>Documentation for SimpleImputer</span></a></div></label><div class=\"sk-toggleable__content fitted\"><pre>SimpleImputer(strategy=&#x27;most_frequent&#x27;)</pre></div> </div></div><div class=\"sk-item\"><div class=\"sk-estimator fitted sk-toggleable\"><input class=\"sk-toggleable__control sk-hidden--visually\" id=\"sk-estimator-id-8\" type=\"checkbox\" ><label for=\"sk-estimator-id-8\" class=\"sk-toggleable__label fitted sk-toggleable__label-arrow\"><div><div>OneHotEncoder</div></div><div><a class=\"sk-estimator-doc-link fitted\" rel=\"noreferrer\" target=\"_blank\" href=\"https://scikit-learn.org/1.6/modules/generated/sklearn.preprocessing.OneHotEncoder.html\">?<span>Documentation for OneHotEncoder</span></a></div></label><div class=\"sk-toggleable__content fitted\"><pre>OneHotEncoder(drop=&#x27;first&#x27;, handle_unknown=&#x27;ignore&#x27;, sparse_output=False)</pre></div> </div></div></div></div></div></div></div></div></div><div class=\"sk-item\"><div class=\"sk-estimator fitted sk-toggleable\"><input class=\"sk-toggleable__control sk-hidden--visually\" id=\"sk-estimator-id-9\" type=\"checkbox\" ><label for=\"sk-estimator-id-9\" class=\"sk-toggleable__label fitted sk-toggleable__label-arrow\"><div><div>HistGradientBoostingClassifier</div></div><div><a class=\"sk-estimator-doc-link fitted\" rel=\"noreferrer\" target=\"_blank\" href=\"https://scikit-learn.org/1.6/modules/generated/sklearn.ensemble.HistGradientBoostingClassifier.html\">?<span>Documentation for HistGradientBoostingClassifier</span></a></div></label><div class=\"sk-toggleable__content fitted\"><pre>HistGradientBoostingClassifier(random_state=42)</pre></div> </div></div></div></div></div></div>"
      ],
      "text/plain": [
       "Pipeline(steps=[('preprocessing',\n",
       "                 ColumnTransformer(transformers=[('num',\n",
       "                                                  Pipeline(steps=[('imputer',\n",
       "                                                                   SimpleImputer()),\n",
       "                                                                  ('scaler',\n",
       "                                                                   StandardScaler())]),\n",
       "                                                  Index(['Elevation', 'Aspect', 'Slope', 'Horizontal_Distance_To_Hydrology',\n",
       "       'Vertical_Distance_To_Hydrology', 'Horizontal_Distance_To_Roadways',\n",
       "       'Hillshade_9am', 'Hillshade_Noon', 'Hillshade_3pm',\n",
       "       'Horizontal_Distance_To_Fire_Points'],\n",
       "      dtype='object')),\n",
       "                                                 ('cat',\n",
       "                                                  Pipeline(steps=[('imputer',\n",
       "                                                                   SimpleImputer(strategy='most_frequent')),\n",
       "                                                                  ('encoder',\n",
       "                                                                   OneHotEncoder(drop='first',\n",
       "                                                                                 handle_unknown='ignore',\n",
       "                                                                                 sparse_output=False))]),\n",
       "                                                  Index(['Soil_Type', 'Wilderness_Area'], dtype='object'))])),\n",
       "                ('model', HistGradientBoostingClassifier(random_state=42))])"
      ]
     },
     "execution_count": 15,
     "metadata": {},
     "output_type": "execute_result"
    }
   ],
   "source": [
    "model.fit(X_train, y_train_binary)"
   ]
  },
  {
   "cell_type": "code",
   "execution_count": 16,
   "metadata": {},
   "outputs": [],
   "source": [
    "y_test_scores = model.predict_proba(X_test)[:, 1]"
   ]
  },
  {
   "cell_type": "code",
   "execution_count": 17,
   "metadata": {},
   "outputs": [
    {
     "data": {
      "image/png": "[encoded data removed]",
      "text/plain": [
       "<Figure size 800x400 with 1 Axes>"
      ]
     },
     "metadata": {},
     "output_type": "display_data"
    }
   ],
   "source": [
    "from sklearn.metrics import precision_recall_curve\n",
    "\n",
    "precisions, recalls, thresholds = precision_recall_curve(y_test_binary, y_test_scores)\n",
    "\n",
    "plt.figure(figsize=(8, 4))\n",
    "\n",
    "plt.plot(thresholds, precisions[:-1], \"b--\", label=\"Precision\", linewidth=2)\n",
    "plt.plot(thresholds, recalls[:-1], \"g-\", label=\"Recall\", linewidth=2)\n",
    "\n",
    "plt.xlabel(\"Threshold\", fontsize=16)\n",
    "plt.legend(loc=\"upper left\", fontsize=16)\n",
    "plt.ylim([-0.1, 1.2])\n",
    "plt.show()"
   ]
  },
  {
   "cell_type": "code",
   "execution_count": 18,
   "metadata": {},
   "outputs": [
    {
     "data": {
      "image/png": "[encoded data removed]",
      "text/plain": [
       "<Figure size 800x800 with 1 Axes>"
      ]
     },
     "metadata": {},
     "output_type": "display_data"
    }
   ],
   "source": [
    "from sklearn.metrics import roc_auc_score, roc_curve\n",
    "\n",
    "# Outras métricas para modelos de classificação são a curva ROC e a área sob a curva ROC (AUC)\n",
    "# A curva ROC é um gráfico que mostra a relação entre a taxa de verdadeiros positivos e a taxa de falsos positivos\n",
    "# A AUC é a área sob a curva ROC, e é uma métrica que varia entre 0.5 e 1, sendo 0.5 o valor de um modelo aleatório\n",
    "\n",
    "# A taxa de verdadeiros positivos (TPR) é a razão entre o número de positivos classificados como positivos e o número total de positivos\n",
    "# A taxa de falsos positivos (FPR) é a razão entre o número de negativos classificados como positivos e o número total de negativos\n",
    "\n",
    "fpf, tpf, _ = roc_curve(y_test_binary, y_test_scores)\n",
    "roc_auc = roc_auc_score(y_test_binary, y_test_scores)\n",
    "\n",
    "plt.figure(figsize=(8, 8))\n",
    "plt.plot(fpf, tpf, label=f'ROC curve (area = {roc_auc:.2f})')\n",
    "\n",
    "plt.plot([0, 1], [0, 1], color='navy', linestyle='--')\n",
    "plt.xlim([0.0, 1.0])\n",
    "plt.ylim([0.0, 1.0])\n",
    "\n",
    "plt.xlabel('False Positive Rate')\n",
    "plt.ylabel('True Positive Rate')\n",
    "\n",
    "plt.title('Receiver Operating Characteristic')\n",
    "\n",
    "plt.legend(loc='lower right')\n",
    "\n",
    "plt.show()"
   ]
  },
  {
   "cell_type": "markdown",
   "metadata": {},
   "source": [
    "Boa prova!"
   ]
  }
 ],
 "metadata": {
  "kernelspec": {
   "display_name": ".venv",
   "language": "python",
   "name": "python3"
  },
  "language_info": {
   "codemirror_mode": {
    "name": "ipython",
    "version": 3
   },
   "file_extension": ".py",
   "mimetype": "text/x-python",
   "name": "python",
   "nbconvert_exporter": "python",
   "pygments_lexer": "ipython3",
   "version": "3.12.8"
  }
 },
 "nbformat": 4,
 "nbformat_minor": 2
}
